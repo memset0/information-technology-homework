{
 "metadata": {
  "language_info": {
   "codemirror_mode": {
    "name": "ipython",
    "version": 3
   },
   "file_extension": ".py",
   "mimetype": "text/x-python",
   "name": "python",
   "nbconvert_exporter": "python",
   "pygments_lexer": "ipython3",
   "version": "3.6.9"
  },
  "orig_nbformat": 2,
  "kernelspec": {
   "name": "python369jvsc74a57bd031f2aee4e71d21fbe5cf8b01ff0e069b9275f58929596ceb00d14d90e3e16cd6",
   "display_name": "Python 3.6.9 64-bit"
  },
  "metadata": {
   "interpreter": {
    "hash": "31f2aee4e71d21fbe5cf8b01ff0e069b9275f58929596ceb00d14d90e3e16cd6"
   }
  }
 },
 "nbformat": 4,
 "nbformat_minor": 2,
 "cells": [
  {
   "source": [
    "## Python 语法细节"
   ],
   "cell_type": "markdown",
   "metadata": {}
  },
  {
   "source": [
    "1. 整型可以用 `0b` 前缀表示二进制，`0o` 前缀表示八进制，`0x` 前缀表示十六进制"
   ],
   "cell_type": "markdown",
   "metadata": {}
  },
  {
   "cell_type": "code",
   "execution_count": 1,
   "metadata": {},
   "outputs": [
    {
     "output_type": "stream",
     "name": "stdout",
     "text": [
      "93 35221 424291692\n"
     ]
    }
   ],
   "source": [
    "print(0b1011101, 0o104625, 0x194a2d6c)"
   ]
  },
  {
   "source": [
    "2. 应注意 `int` 与 `//` 的取整算法区别：`int` 的取整是截取整数部分，`//` 的取整是向下取整（高斯符号）。"
   ],
   "cell_type": "markdown",
   "metadata": {}
  },
  {
   "cell_type": "code",
   "execution_count": null,
   "metadata": {},
   "outputs": [],
   "source": [
    "int(-7.5)  # = -7\n",
    "-15 // 2   # = -8"
   ]
  },
  {
   "source": [
    "3. 二元运算符 `//` 若其中一个参数是浮点数类型，则返回值也为浮点数类型，算法仍是除后向下取整。"
   ],
   "cell_type": "markdown",
   "metadata": {}
  },
  {
   "cell_type": "code",
   "execution_count": null,
   "metadata": {},
   "outputs": [],
   "source": [
    "-15.0 // 2  # = -8.0\n",
    "15 // 2.0   # = 7.0"
   ]
  }
 ]
}